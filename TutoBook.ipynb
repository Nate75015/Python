{
 "cells": [
  {
   "cell_type": "code",
   "execution_count": 1,
   "metadata": {},
   "outputs": [],
   "source": [
    "import math as Mth"
   ]
  },
  {
   "cell_type": "markdown",
   "metadata": {},
   "source": [
    "Transmettre des données par input"
   ]
  },
  {
   "cell_type": "code",
   "execution_count": 1,
   "metadata": {},
   "outputs": [
    {
     "name": "stdout",
     "output_type": "stream",
     "text": [
      "Entrez votre prenom : Damien\n",
      "votre prenom est Damien"
     ]
    }
   ],
   "source": [
    "prenom = input(\"Entrez votre prenom : \")\n",
    "print(\"votre prenom est\", prenom, end = '')"
   ]
  },
  {
   "cell_type": "code",
   "execution_count": 4,
   "metadata": {},
   "outputs": [
    {
     "name": "stdout",
     "output_type": "stream",
     "text": [
      "Veuillez entrer un nombre postif 9\n",
      "le carré de  9 est 81\n"
     ]
    }
   ],
   "source": [
    "ep = int(input(\"Veuillez entrer un nombre postif \"))\n",
    "print(\"le carré de \", ep ,\"est\", ep**2)"
   ]
  },
  {
   "cell_type": "markdown",
   "metadata": {},
   "source": [
    "Découverte boucle et fonction"
   ]
  },
  {
   "cell_type": "code",
   "execution_count": 6,
   "metadata": {},
   "outputs": [],
   "source": [
    "def tableMulti(base, debut, fin):\n",
    "    print(\"La table de \", base, \"de \", debut,\"à\", fin, \"est :\")\n",
    "    for i in range(debut,fin+1):\n",
    "        print(i*base)"
   ]
  },
  {
   "cell_type": "code",
   "execution_count": 7,
   "metadata": {},
   "outputs": [
    {
     "name": "stdout",
     "output_type": "stream",
     "text": [
      "La table de  7 de  3 à 6 est :\n",
      "21\n",
      "28\n",
      "35\n",
      "42\n"
     ]
    }
   ],
   "source": [
    "tableMulti(7,3,6)"
   ]
  },
  {
   "cell_type": "code",
   "execution_count": 10,
   "metadata": {},
   "outputs": [
    {
     "name": "stdout",
     "output_type": "stream",
     "text": [
      "16\n"
     ]
    }
   ],
   "source": [
    "def monter():\n",
    "    global a\n",
    "    a = a+1\n",
    "    print(a)\n",
    "    \n",
    "a = 15\n",
    "monter()"
   ]
  },
  {
   "cell_type": "code",
   "execution_count": 11,
   "metadata": {},
   "outputs": [],
   "source": [
    "def essai():\n",
    "    \"Cette fonction est bien documentée mais ne fait presque rien.\"\n",
    "    print(\"rien à signaler\")"
   ]
  },
  {
   "cell_type": "code",
   "execution_count": 12,
   "metadata": {},
   "outputs": [
    {
     "name": "stdout",
     "output_type": "stream",
     "text": [
      "rien à signaler\n"
     ]
    }
   ],
   "source": [
    "essai()\n"
   ]
  },
  {
   "cell_type": "code",
   "execution_count": 13,
   "metadata": {},
   "outputs": [
    {
     "name": "stdout",
     "output_type": "stream",
     "text": [
      "Cette fonction est bien documentée mais ne fait presque rien.\n"
     ]
    }
   ],
   "source": [
    "print(essai.__doc__)"
   ]
  },
  {
   "cell_type": "code",
   "execution_count": 15,
   "metadata": {},
   "outputs": [],
   "source": [
    "def politesse(nom, vedette = 'Monsieur'):\n",
    "    print(\"Veuillez agréer,\", vedette, nom, \", mes salutations cordiales.\")"
   ]
  },
  {
   "cell_type": "code",
   "execution_count": 16,
   "metadata": {},
   "outputs": [
    {
     "name": "stdout",
     "output_type": "stream",
     "text": [
      "Veuillez agréer, Monsieur Dupont , mes salutations cordiales.\n"
     ]
    }
   ],
   "source": [
    "politesse('Dupont')"
   ]
  },
  {
   "cell_type": "markdown",
   "metadata": {},
   "source": [
    "Decouverte des scripts "
   ]
  },
  {
   "cell_type": "code",
   "execution_count": 6,
   "metadata": {},
   "outputs": [
    {
     "data": {
      "text/plain": [
       "'/home/dmarque/PythonProject'"
      ]
     },
     "execution_count": 6,
     "metadata": {},
     "output_type": "execute_result"
    }
   ],
   "source": [
    "from os import chdir, getcwd\n",
    "#chdir() change directory\n",
    "#getcwd() répertoire courant\n",
    "#obFichier = open(nomFichier,a)\n",
    "#obFichier.write()\n",
    "#obFichier.close\n",
    "#obFichier.read()\n",
    "#readline() readlines()\n"
   ]
  },
  {
   "cell_type": "markdown",
   "metadata": {},
   "source": [
    "Gestion des erreurs"
   ]
  },
  {
   "cell_type": "code",
   "execution_count": 7,
   "metadata": {},
   "outputs": [
    {
     "name": "stdout",
     "output_type": "stream",
     "text": [
      "Le fichier veuillez entrer le nom du fichier : est introuvable\n"
     ]
    }
   ],
   "source": [
    "filename = (\"veuillez entrer le nom du fichier :\")\n",
    "try:\n",
    "    f = open(filename,\"r\")\n",
    "except:\n",
    "    print(\"Le fichier\", filename, \"est introuvable\")\n",
    "    "
   ]
  },
  {
   "cell_type": "markdown",
   "metadata": {},
   "source": [
    "Exercice Page 121 Python3"
   ]
  },
  {
   "cell_type": "code",
   "execution_count": 8,
   "metadata": {},
   "outputs": [
    {
     "name": "stdout",
     "output_type": "stream",
     "text": [
      "Jack\n",
      "Kack\n",
      "Lack\n",
      "Mack\n",
      "Nack\n",
      "Oack\n",
      "Pack\n"
     ]
    }
   ],
   "source": [
    "prefixes = 'JKLMNOP'\n",
    "suffixe = 'ack'\n",
    "for pre in prefixes:\n",
    "    print(pre + suffixe)"
   ]
  },
  {
   "cell_type": "code",
   "execution_count": 9,
   "metadata": {},
   "outputs": [
    {
     "name": "stdout",
     "output_type": "stream",
     "text": [
      "e est une voyelles\n"
     ]
    }
   ],
   "source": [
    "car = \"e\"\n",
    "voyelles = \"aeiouyAEIOUYàâéèêùîi\"\n",
    "\n",
    "if car in voyelles :\n",
    "    print(car, \"est une voyelles\")"
   ]
  },
  {
   "cell_type": "markdown",
   "metadata": {},
   "source": [
    "exercice page 122"
   ]
  },
  {
   "cell_type": "code",
   "execution_count": 27,
   "metadata": {},
   "outputs": [],
   "source": [
    "def estUnChiffre(chiffretrans):\n",
    "    chiffre = \"0123456789\"\n",
    "    if chiffretrans in chiffre:\n",
    "        print(\"vrai\")\n",
    "    else: print(\"faux\")\n",
    "    "
   ]
  },
  {
   "cell_type": "code",
   "execution_count": 29,
   "metadata": {},
   "outputs": [
    {
     "name": "stdout",
     "output_type": "stream",
     "text": [
      "vrai\n"
     ]
    }
   ],
   "source": [
    "estUnChiffre(\"9\")"
   ]
  },
  {
   "cell_type": "code",
   "execution_count": 30,
   "metadata": {},
   "outputs": [
    {
     "name": "stdout",
     "output_type": "stream",
     "text": [
      "faux\n"
     ]
    }
   ],
   "source": [
    "estUnChiffre(\"à\")"
   ]
  },
  {
   "cell_type": "code",
   "execution_count": 41,
   "metadata": {},
   "outputs": [
    {
     "name": "stdout",
     "output_type": "stream",
     "text": [
      "Bonjour à tous\n"
     ]
    }
   ],
   "source": [
    "salut = 'bonjour à tous'\n",
    "salut = 'B' + salut[1:]\n",
    "print(salut)"
   ]
  },
  {
   "cell_type": "code",
   "execution_count": 42,
   "metadata": {},
   "outputs": [],
   "source": [
    "#Méthodes à utiliser pour les chaînes.\n",
    "#split()\n",
    "#\"\".join()\n",
    "#.find()\n",
    "#.count()\n",
    "#.lower()\n",
    "#.upper()\n",
    "#.title() convertit en majuscule l'initiale de chaque mot.\n",
    "#.capitalize() convertit en majuscule seulement la première lettre de la chaîne.\n",
    "#.swapcase() convertit en majusculetoutes les minuscules et vice versa.\n",
    "#.strip() 17, 10,enlève les espaces éventuels au début et à la fin de la chaîne.\n",
    "#.replace(c1,c2) \n",
    "#.index(car) retrouve l'indice de la premiere occcurence du caractère car dans la chaine17, 10,"
   ]
  },
  {
   "cell_type": "markdown",
   "metadata": {},
   "source": [
    "Découvertes des flux "
   ]
  },
  {
   "cell_type": "code",
   "execution_count": 44,
   "metadata": {},
   "outputs": [
    {
     "name": "stdout",
     "output_type": "stream",
     "text": [
      "L'aire d'un cercle de rayon 3 est 28.27422\n"
     ]
    }
   ],
   "source": [
    "pi = 3.14158\n",
    "r = 3\n",
    "ch = \"L'aire d'un cercle de rayon {} est {}\"\n",
    "print(ch.format(r,pi*r**2))\n",
    "#Balise peuvent contenir des numéros d'ordre ainsi que des indications de formatage."
   ]
  },
  {
   "cell_type": "code",
   "execution_count": 45,
   "metadata": {},
   "outputs": [],
   "source": [
    "#Chaine de caractère non modifiable tandis que les listes oui."
   ]
  },
  {
   "cell_type": "code",
   "execution_count": 46,
   "metadata": {},
   "outputs": [
    {
     "data": {
      "text/plain": [
       "[9, 10, 12, 17, 34]"
      ]
     },
     "execution_count": 46,
     "metadata": {},
     "output_type": "execute_result"
    }
   ],
   "source": [
    "nombres = [17, 10, 12, 34, 9]\n",
    "nombres.sort()\n",
    "nombres\n",
    "#.append(),.reverse(),.index(),.remove(),del"
   ]
  },
  {
   "cell_type": "code",
   "execution_count": 49,
   "metadata": {},
   "outputs": [
    {
     "name": "stdout",
     "output_type": "stream",
     "text": [
      "[400, 441, 484, 529, 576, 625, 676, 729, 784, 841, 900, 961, 1024, 1089, 1156, 1225, 1296, 1369, 1444, 1521, 1600] 21\n",
      "[8000, 9261, 10648, 12167, 13824, 15625, 17576, 19683, 21952, 24389, 27000, 29791, 32768, 35937, 39304, 42875, 46656, 50653, 54872, 59319, 64000] 21\n"
     ]
    }
   ],
   "source": [
    "listeCarre = []\n",
    "listeCube = []\n",
    "for i in range(20,41):\n",
    "        listeCarre.append(i**2)\n",
    "        listeCube.append(i**3)\n",
    "\n",
    "print(listeCarre, len(listeCarre))\n",
    "print(listeCube, len(listeCube))\n",
    "    \n",
    "    "
   ]
  },
  {
   "cell_type": "code",
   "execution_count": 52,
   "metadata": {},
   "outputs": [
    {
     "name": "stdout",
     "output_type": "stream",
     "text": [
      "[0.0, 0.08715539259656767, 0.1736474853694801, 0.2588180265666122, 0.34201882216033563, 0.42261666895574623, 0.4999981736105198, 0.5735744208910425, 0.6427854556368544, 0.7071045443232221, 0.7660421837890412, 0.8191498266214706, 0.866023294845103, 0.9063058559356441, 0.9396909377479666, 0.9659244616964651, 0.9848067764309419, 0.9961941772917033, 0.9999999999799858]\n"
     ]
    }
   ],
   "source": [
    "import math as mth\n",
    "\n",
    "listeSinus = []\n",
    "Pi = 3.14158\n",
    "\n",
    "for i in range(0,95,5):\n",
    "    listeSinus.append(mth.sin(i*2*Pi/360))\n",
    "    \n",
    "print(listeSinus)\n",
    "    "
   ]
  },
  {
   "cell_type": "code",
   "execution_count": 1,
   "metadata": {},
   "outputs": [],
   "source": [
    "sept_zero=[0]*7"
   ]
  },
  {
   "cell_type": "code",
   "execution_count": 2,
   "metadata": {},
   "outputs": [
    {
     "data": {
      "text/plain": [
       "[0, 0, 0, 0, 0, 0, 0]"
      ]
     },
     "execution_count": 2,
     "metadata": {},
     "output_type": "execute_result"
    }
   ],
   "source": [
    "sept_zero"
   ]
  },
  {
   "cell_type": "code",
   "execution_count": 3,
   "metadata": {},
   "outputs": [
    {
     "name": "stdout",
     "output_type": "stream",
     "text": [
      "{'babanes': 312, 'oranges': 274, 'pommes': 430, 'poires': 137}\n"
     ]
    }
   ],
   "source": [
    "invent = {'pommes' : 430, 'babanes' : 312, 'oranges' : 274, 'poires' : 137}\n",
    "print(invent)"
   ]
  },
  {
   "cell_type": "code",
   "execution_count": 4,
   "metadata": {},
   "outputs": [],
   "source": [
    "invent['grenades'] = 340"
   ]
  },
  {
   "cell_type": "code",
   "execution_count": 5,
   "metadata": {},
   "outputs": [
    {
     "name": "stdout",
     "output_type": "stream",
     "text": [
      "{'babanes': 312, 'oranges': 274, 'grenades': 340, 'pommes': 430, 'poires': 137}\n"
     ]
    }
   ],
   "source": [
    "print(invent)"
   ]
  },
  {
   "cell_type": "code",
   "execution_count": 6,
   "metadata": {},
   "outputs": [],
   "source": [
    "del invent['pommes']"
   ]
  },
  {
   "cell_type": "code",
   "execution_count": 8,
   "metadata": {},
   "outputs": [
    {
     "name": "stdout",
     "output_type": "stream",
     "text": [
      "{'babanes': 312, 'oranges': 274, 'grenades': 340, 'poires': 137}\n"
     ]
    }
   ],
   "source": [
    "print(invent)"
   ]
  },
  {
   "cell_type": "markdown",
   "metadata": {},
   "source": [
    "Découverte des classes "
   ]
  },
  {
   "cell_type": "code",
   "execution_count": 4,
   "metadata": {},
   "outputs": [],
   "source": [
    "class Point(object):\n",
    "    \"Definition d'un point géométrique\"\n",
    "    "
   ]
  },
  {
   "cell_type": "code",
   "execution_count": 5,
   "metadata": {},
   "outputs": [
    {
     "name": "stdout",
     "output_type": "stream",
     "text": [
      "Definition d'un point géométrique\n"
     ]
    }
   ],
   "source": [
    "print(Point.__doc__)"
   ]
  },
  {
   "cell_type": "code",
   "execution_count": 6,
   "metadata": {},
   "outputs": [],
   "source": [
    "def distance(p1,p2):\n",
    "    print(\"La distance de \" , p1 , \" à \", p2 , \"est :\" , Mth.sqrt((p1.x - p2.x)**2 + (p1.y - p2.y)**2))"
   ]
  },
  {
   "cell_type": "code",
   "execution_count": 7,
   "metadata": {},
   "outputs": [],
   "source": [
    "p1 = Point()\n",
    "p2 = Point()\n",
    "\n",
    "p1.x = 4\n",
    "p1.y = 3\n",
    "p2.x = 2\n",
    "p2.y = 5"
   ]
  },
  {
   "cell_type": "code",
   "execution_count": 8,
   "metadata": {},
   "outputs": [
    {
     "name": "stdout",
     "output_type": "stream",
     "text": [
      "La distance de  <__main__.Point object at 0x7f0db84c1b00>  à  <__main__.Point object at 0x7f0db84c1ac8> est : 2.8284271247461903\n"
     ]
    }
   ],
   "source": [
    "distance(p1,p2)"
   ]
  },
  {
   "cell_type": "code",
   "execution_count": 9,
   "metadata": {},
   "outputs": [],
   "source": [
    "class Time(object):\n",
    "    \"definition d'objets temporels\""
   ]
  },
  {
   "cell_type": "code",
   "execution_count": 10,
   "metadata": {},
   "outputs": [],
   "source": [
    "instant = Time()"
   ]
  },
  {
   "cell_type": "code",
   "execution_count": 11,
   "metadata": {},
   "outputs": [],
   "source": [
    "instant.heure = 11\n",
    "instant.minute = 34\n",
    "instant.seconde = 25"
   ]
  },
  {
   "cell_type": "code",
   "execution_count": 17,
   "metadata": {},
   "outputs": [],
   "source": [
    "def affiche_heure(instant):\n",
    "    print(str(instant.heure ) + \":\" + str(instant.minute) + \":\" + str(instant.seconde))"
   ]
  },
  {
   "cell_type": "code",
   "execution_count": 18,
   "metadata": {},
   "outputs": [
    {
     "name": "stdout",
     "output_type": "stream",
     "text": [
      "11:34:25\n"
     ]
    }
   ],
   "source": [
    "affiche_heure(instant)"
   ]
  },
  {
   "cell_type": "code",
   "execution_count": 19,
   "metadata": {},
   "outputs": [],
   "source": [
    "class Time(object):\n",
    "    \"definition d'objets temporels\"\n",
    "    def affiche_heure(self):\n",
    "        print(\"{0}:{1}:{2}\".format(self.heure, self.minute, self.seconde))"
   ]
  },
  {
   "cell_type": "code",
   "execution_count": 20,
   "metadata": {},
   "outputs": [
    {
     "ename": "AttributeError",
     "evalue": "'Time' object has no attribute 'heure'",
     "output_type": "error",
     "traceback": [
      "\u001b[0;31m---------------------------------------------------------------------------\u001b[0m",
      "\u001b[0;31mAttributeError\u001b[0m                            Traceback (most recent call last)",
      "\u001b[0;32m<ipython-input-20-4b368c721cc2>\u001b[0m in \u001b[0;36m<module>\u001b[0;34m()\u001b[0m\n\u001b[1;32m      1\u001b[0m \u001b[0mmaintenant\u001b[0m \u001b[0;34m=\u001b[0m \u001b[0mTime\u001b[0m\u001b[0;34m(\u001b[0m\u001b[0;34m)\u001b[0m\u001b[0;34m\u001b[0m\u001b[0m\n\u001b[0;32m----> 2\u001b[0;31m \u001b[0mmaintenant\u001b[0m\u001b[0;34m.\u001b[0m\u001b[0maffiche_heure\u001b[0m\u001b[0;34m(\u001b[0m\u001b[0;34m)\u001b[0m\u001b[0;34m\u001b[0m\u001b[0m\n\u001b[0m",
      "\u001b[0;32m<ipython-input-19-9ce99509ec4d>\u001b[0m in \u001b[0;36maffiche_heure\u001b[0;34m(self)\u001b[0m\n\u001b[1;32m      2\u001b[0m     \u001b[0;34m\"definition d'objets temporels\"\u001b[0m\u001b[0;34m\u001b[0m\u001b[0m\n\u001b[1;32m      3\u001b[0m     \u001b[0;32mdef\u001b[0m \u001b[0maffiche_heure\u001b[0m\u001b[0;34m(\u001b[0m\u001b[0mself\u001b[0m\u001b[0;34m)\u001b[0m\u001b[0;34m:\u001b[0m\u001b[0;34m\u001b[0m\u001b[0m\n\u001b[0;32m----> 4\u001b[0;31m         \u001b[0mprint\u001b[0m\u001b[0;34m(\u001b[0m\u001b[0;34m\"{0}:{1}:{2}\"\u001b[0m\u001b[0;34m.\u001b[0m\u001b[0mformat\u001b[0m\u001b[0;34m(\u001b[0m\u001b[0mself\u001b[0m\u001b[0;34m.\u001b[0m\u001b[0mheure\u001b[0m\u001b[0;34m,\u001b[0m \u001b[0mself\u001b[0m\u001b[0;34m.\u001b[0m\u001b[0mminute\u001b[0m\u001b[0;34m,\u001b[0m \u001b[0mself\u001b[0m\u001b[0;34m.\u001b[0m\u001b[0mseconde\u001b[0m\u001b[0;34m)\u001b[0m\u001b[0;34m)\u001b[0m\u001b[0;34m\u001b[0m\u001b[0m\n\u001b[0m",
      "\u001b[0;31mAttributeError\u001b[0m: 'Time' object has no attribute 'heure'"
     ]
    }
   ],
   "source": [
    "maintenant = Time()\n",
    "maintenant.affiche_heure()"
   ]
  },
  {
   "cell_type": "code",
   "execution_count": 21,
   "metadata": {},
   "outputs": [],
   "source": [
    "class Time(object):\n",
    "    \"Encore une nouvelle classe temporelle\"\n",
    "    def __init__(self):\n",
    "        self.heure = 12\n",
    "        self.minute = 0\n",
    "        self.seconde = 0\n",
    "        \n",
    "    def affiche_heure(self):\n",
    "        print(\"{0}:{1}:{2}\".format(self.heure, self.minute, self.seconde))"
   ]
  },
  {
   "cell_type": "code",
   "execution_count": 23,
   "metadata": {},
   "outputs": [
    {
     "name": "stdout",
     "output_type": "stream",
     "text": [
      "12:0:0\n"
     ]
    }
   ],
   "source": [
    "Maintenant = Time()\n",
    "Maintenant.affiche_heure()"
   ]
  },
  {
   "cell_type": "code",
   "execution_count": 24,
   "metadata": {},
   "outputs": [],
   "source": [
    "class Time(object):\n",
    "    \"Encore une nouvelle classe temporelle\"\n",
    "    def __init__(self, hh = 12 , mm = 0 , ss = 0):\n",
    "        self.heure = hh\n",
    "        self.minute = mm\n",
    "        self.seconde = ss\n",
    "        \n",
    "    def affiche_heure(self):\n",
    "        print(\"{0}:{1}:{2}\".format(self.heure, self.minute, self.seconde))"
   ]
  },
  {
   "cell_type": "code",
   "execution_count": 26,
   "metadata": {},
   "outputs": [
    {
     "name": "stdout",
     "output_type": "stream",
     "text": [
      "17:12:30\n"
     ]
    }
   ],
   "source": [
    "tstart = Time(17 , 12 , 30)\n",
    "tstart. affiche_heure()"
   ]
  },
  {
   "cell_type": "markdown",
   "metadata": {},
   "source": [
    "Exercice Domino"
   ]
  },
  {
   "cell_type": "code",
   "execution_count": 33,
   "metadata": {},
   "outputs": [],
   "source": [
    "class Domino(object):\n",
    "    \"Méthode qui s'apparent aux jeux de dominos\"\n",
    "    def __init__(self, face_A = 0, face_B = 0 ):\n",
    "        self.face_A = face_A\n",
    "        self.face_B = face_B\n",
    "        \n",
    "    def affiche_points(domino):\n",
    "        print(\"{0}:{1}\" .format(domino.face_A,domino.face_B))\n",
    "        \n",
    "    def valeur(domino):\n",
    "        return domino.face_A + domino.face_B"
   ]
  },
  {
   "cell_type": "code",
   "execution_count": 34,
   "metadata": {},
   "outputs": [
    {
     "name": "stdout",
     "output_type": "stream",
     "text": [
      "4:5\n"
     ]
    },
    {
     "data": {
      "text/plain": [
       "9"
      ]
     },
     "execution_count": 34,
     "metadata": {},
     "output_type": "execute_result"
    }
   ],
   "source": [
    "domino_1 = Domino(4,5)\n",
    "domino_2 = Domino(3,6)\n",
    "domino_1.affiche_points()\n",
    "domino_1.valeur()"
   ]
  },
  {
   "cell_type": "markdown",
   "metadata": {},
   "source": [
    "Exercice Compte bancaire"
   ]
  },
  {
   "cell_type": "code",
   "execution_count": 42,
   "metadata": {},
   "outputs": [],
   "source": [
    "class CompteBancaire(object):\n",
    "    \"Definition de la classe bancaire\"\n",
    "    def __init__(self, nom = 'Dupont', solde = 100):\n",
    "        self.nom = nom\n",
    "        self.solde = solde\n",
    "        \n",
    "    def depot(self , somme):\n",
    "        self.solde = self.solde + somme\n",
    "        \n",
    "    def retrait(self, somme):\n",
    "        self.solde = self.solde - somme\n",
    "        \n",
    "    def affiche(objet):\n",
    "        print(\"le nom du titulaire est : \", objet.nom, \"son solde est de \", objet.solde)\n",
    "    \n",
    "        \n",
    "    "
   ]
  },
  {
   "cell_type": "code",
   "execution_count": 45,
   "metadata": {},
   "outputs": [
    {
     "name": "stdout",
     "output_type": "stream",
     "text": [
      "le nom du titulaire est :  Marque son solde est de  10000\n",
      "le nom du titulaire est :  Marque son solde est de  10100\n",
      "le nom du titulaire est :  Marque son solde est de  9756\n"
     ]
    }
   ],
   "source": [
    "compte1 = CompteBancaire('Marque', 10000)\n",
    "compte1.affiche()\n",
    "compte1.depot(100)\n",
    "compte1.affiche()\n",
    "compte1.retrait(344)\n",
    "compte1.affiche()"
   ]
  },
  {
   "cell_type": "markdown",
   "metadata": {},
   "source": [
    "Exercice classe voiture"
   ]
  },
  {
   "cell_type": "code",
   "execution_count": 46,
   "metadata": {},
   "outputs": [
    {
     "ename": "SyntaxError",
     "evalue": "invalid syntax (<ipython-input-46-ee84d4b9be91>, line 3)",
     "output_type": "error",
     "traceback": [
      "\u001b[0;36m  File \u001b[0;32m\"<ipython-input-46-ee84d4b9be91>\"\u001b[0;36m, line \u001b[0;32m3\u001b[0m\n\u001b[0;31m    def __init__(self, marque = 'Ford', couleur = 'rouge', pilote = 'personne', vitesse = '0')\u001b[0m\n\u001b[0m                                                                                              ^\u001b[0m\n\u001b[0;31mSyntaxError\u001b[0m\u001b[0;31m:\u001b[0m invalid syntax\n"
     ]
    }
   ],
   "source": [
    "class Voiture(object):\n",
    "    \"Definition d'une classe voiture\"\n",
    "    def __init__(self, marque = 'Ford', couleur = 'rouge', pilote = 'personne', vitesse = '0')\n",
    "        self.marque = marque\n",
    "        self.couleur = couleur\n",
    "        self.pilote = pilote\n",
    "        self.vitesse = vitesse\n",
    "        \n",
    "    def choix_conducteur(self, nom):\n",
    "        self.nom = nom\n",
    "        \n",
    "  ...\n",
    "        "
   ]
  },
  {
   "cell_type": "markdown",
   "metadata": {},
   "source": [
    "Heritage en Python"
   ]
  },
  {
   "cell_type": "code",
   "execution_count": 47,
   "metadata": {},
   "outputs": [
    {
     "name": "stdout",
     "output_type": "stream",
     "text": [
      "il allaite ses petits ; il se nourrit de la chair de ses proies ; son cri s'appelle aboiement ;\n"
     ]
    }
   ],
   "source": [
    "class Mammifere(object):\n",
    "    caract1 = \"il allaite ses petits ;\"\n",
    "\n",
    "class Carnivore(Mammifere):\n",
    "    caract2 = \"il se nourrit de la chair de ses proies ;\"\n",
    "    \n",
    "class Chien(Carnivore):\n",
    "    caract3 = \"son cri s'appelle aboiement ;\"\n",
    "    \n",
    "    \n",
    "mirza = Chien()\n",
    "print(mirza.caract1,mirza.caract2,mirza.caract3)"
   ]
  },
  {
   "cell_type": "code",
   "execution_count": 66,
   "metadata": {},
   "outputs": [],
   "source": [
    "class Cercle(object):\n",
    "    \n",
    "    def __init__(self, rayon = 0):\n",
    "        self.rayon = rayon\n",
    "        \n",
    "    def surface(self):\n",
    "        return(Mth.pi*self.rayon**2)\n",
    "    \n",
    "class Cylindre(Cercle):\n",
    "    \n",
    "    def __init__(self, rayon = 0, hauteur = 0):\n",
    "        self.rayon = rayon\n",
    "        self.hauteur = hauteur\n",
    "        \n",
    "    def Volume(self):\n",
    "        return(self.surface()*self.hauteur)\n",
    "        "
   ]
  },
  {
   "cell_type": "code",
   "execution_count": 67,
   "metadata": {},
   "outputs": [],
   "source": [
    "cyl = Cylindre(5,7)"
   ]
  },
  {
   "cell_type": "code",
   "execution_count": 68,
   "metadata": {},
   "outputs": [
    {
     "name": "stdout",
     "output_type": "stream",
     "text": [
      "78.53981633974483\n"
     ]
    }
   ],
   "source": [
    "print(cyl.surface())"
   ]
  },
  {
   "cell_type": "code",
   "execution_count": 69,
   "metadata": {},
   "outputs": [
    {
     "name": "stdout",
     "output_type": "stream",
     "text": [
      "549.7787143782139\n"
     ]
    }
   ],
   "source": [
    "print(cyl.Volume())"
   ]
  },
  {
   "cell_type": "code",
   "execution_count": 70,
   "metadata": {},
   "outputs": [],
   "source": [
    "class Cone(Cylindre):\n",
    "    \"Définition de la classe Cylindre\"\n",
    "    \n",
    "    def __init__(self, rayon, hauteur):\n",
    "        self.rayon = rayon\n",
    "        self.hauteur = hauteur\n",
    "        \n",
    "    def Volume(self):\n",
    "            return self.Volume()/3\n",
    "        \n",
    "  "
   ]
  },
  {
   "cell_type": "code",
   "execution_count": 71,
   "metadata": {},
   "outputs": [
    {
     "ename": "RecursionError",
     "evalue": "maximum recursion depth exceeded",
     "output_type": "error",
     "traceback": [
      "\u001b[0;31m---------------------------------------------------------------------------\u001b[0m",
      "\u001b[0;31mRecursionError\u001b[0m                            Traceback (most recent call last)",
      "\u001b[0;32m<ipython-input-71-2886b6139911>\u001b[0m in \u001b[0;36m<module>\u001b[0;34m()\u001b[0m\n\u001b[1;32m      1\u001b[0m \u001b[0mco\u001b[0m \u001b[0;34m=\u001b[0m \u001b[0mCone\u001b[0m\u001b[0;34m(\u001b[0m\u001b[0;36m5\u001b[0m\u001b[0;34m,\u001b[0m\u001b[0;36m7\u001b[0m\u001b[0;34m)\u001b[0m\u001b[0;34m\u001b[0m\u001b[0m\n\u001b[0;32m----> 2\u001b[0;31m \u001b[0mprint\u001b[0m\u001b[0;34m(\u001b[0m\u001b[0mco\u001b[0m\u001b[0;34m.\u001b[0m\u001b[0mVolume\u001b[0m\u001b[0;34m(\u001b[0m\u001b[0;34m)\u001b[0m\u001b[0;34m)\u001b[0m\u001b[0;34m\u001b[0m\u001b[0m\n\u001b[0m",
      "\u001b[0;32m<ipython-input-70-ef5dcff8f33d>\u001b[0m in \u001b[0;36mVolume\u001b[0;34m(self)\u001b[0m\n\u001b[1;32m      7\u001b[0m \u001b[0;34m\u001b[0m\u001b[0m\n\u001b[1;32m      8\u001b[0m     \u001b[0;32mdef\u001b[0m \u001b[0mVolume\u001b[0m\u001b[0;34m(\u001b[0m\u001b[0mself\u001b[0m\u001b[0;34m)\u001b[0m\u001b[0;34m:\u001b[0m\u001b[0;34m\u001b[0m\u001b[0m\n\u001b[0;32m----> 9\u001b[0;31m             \u001b[0;32mreturn\u001b[0m \u001b[0mself\u001b[0m\u001b[0;34m.\u001b[0m\u001b[0mVolume\u001b[0m\u001b[0;34m(\u001b[0m\u001b[0;34m)\u001b[0m\u001b[0;34m/\u001b[0m\u001b[0;36m3\u001b[0m\u001b[0;34m\u001b[0m\u001b[0m\n\u001b[0m\u001b[1;32m     10\u001b[0m \u001b[0;34m\u001b[0m\u001b[0m\n\u001b[1;32m     11\u001b[0m \u001b[0;34m\u001b[0m\u001b[0m\n",
      "... last 1 frames repeated, from the frame below ...\n",
      "\u001b[0;32m<ipython-input-70-ef5dcff8f33d>\u001b[0m in \u001b[0;36mVolume\u001b[0;34m(self)\u001b[0m\n\u001b[1;32m      7\u001b[0m \u001b[0;34m\u001b[0m\u001b[0m\n\u001b[1;32m      8\u001b[0m     \u001b[0;32mdef\u001b[0m \u001b[0mVolume\u001b[0m\u001b[0;34m(\u001b[0m\u001b[0mself\u001b[0m\u001b[0;34m)\u001b[0m\u001b[0;34m:\u001b[0m\u001b[0;34m\u001b[0m\u001b[0m\n\u001b[0;32m----> 9\u001b[0;31m             \u001b[0;32mreturn\u001b[0m \u001b[0mself\u001b[0m\u001b[0;34m.\u001b[0m\u001b[0mVolume\u001b[0m\u001b[0;34m(\u001b[0m\u001b[0;34m)\u001b[0m\u001b[0;34m/\u001b[0m\u001b[0;36m3\u001b[0m\u001b[0;34m\u001b[0m\u001b[0m\n\u001b[0m\u001b[1;32m     10\u001b[0m \u001b[0;34m\u001b[0m\u001b[0m\n\u001b[1;32m     11\u001b[0m \u001b[0;34m\u001b[0m\u001b[0m\n",
      "\u001b[0;31mRecursionError\u001b[0m: maximum recursion depth exceeded"
     ]
    }
   ],
   "source": [
    "co = Cone(5,7)\n",
    "print(co.Volume())"
   ]
  },
  {
   "cell_type": "code",
   "execution_count": 2,
   "metadata": {},
   "outputs": [],
   "source": [
    "import sqlite3"
   ]
  },
  {
   "cell_type": "code",
   "execution_count": 3,
   "metadata": {},
   "outputs": [],
   "source": [
    "fichierDonnees = \"/home/dmarque/PythonProject/bd_test.sq3\""
   ]
  },
  {
   "cell_type": "code",
   "execution_count": 4,
   "metadata": {},
   "outputs": [],
   "source": [
    "#On crée un objet connexion à l'aide de la fonction connect()\n",
    "conn = sqlite3.connect(fichierDonnees)"
   ]
  },
  {
   "cell_type": "code",
   "execution_count": 5,
   "metadata": {},
   "outputs": [],
   "source": [
    "#Misee en place du curseur.\n",
    "cur = conn.cursor()"
   ]
  },
  {
   "cell_type": "code",
   "execution_count": 6,
   "metadata": {},
   "outputs": [
    {
     "ename": "OperationalError",
     "evalue": "table membres already exists",
     "output_type": "error",
     "traceback": [
      "\u001b[0;31m---------------------------------------------------------------------------\u001b[0m",
      "\u001b[0;31mOperationalError\u001b[0m                          Traceback (most recent call last)",
      "\u001b[0;32m<ipython-input-6-017b450b8b56>\u001b[0m in \u001b[0;36m<module>\u001b[0;34m()\u001b[0m\n\u001b[1;32m      1\u001b[0m \u001b[0;31m#Executer une commande\u001b[0m\u001b[0;34m\u001b[0m\u001b[0;34m\u001b[0m\u001b[0m\n\u001b[0;32m----> 2\u001b[0;31m \u001b[0mcur\u001b[0m\u001b[0;34m.\u001b[0m\u001b[0mexecute\u001b[0m\u001b[0;34m(\u001b[0m\u001b[0;34m\"Create Table membres(age INTEGER, nom TEXT, taille REAL)\"\u001b[0m\u001b[0;34m)\u001b[0m\u001b[0;34m\u001b[0m\u001b[0m\n\u001b[0m",
      "\u001b[0;31mOperationalError\u001b[0m: table membres already exists"
     ]
    }
   ],
   "source": [
    "#Executer une commande\n",
    "cur.execute(\"Create Table membres(age INTEGER, nom TEXT, taille REAL)\")"
   ]
  },
  {
   "cell_type": "code",
   "execution_count": 7,
   "metadata": {},
   "outputs": [
    {
     "data": {
      "text/plain": [
       "<sqlite3.Cursor at 0x7ffb48286dc0>"
      ]
     },
     "execution_count": 7,
     "metadata": {},
     "output_type": "execute_result"
    }
   ],
   "source": [
    "#Insérer une donnée à notre table\n",
    "cur.execute(\"INSERT INTO membres(age,nom,taille) VALUES(21,'Dupont',1.83)\")"
   ]
  },
  {
   "cell_type": "code",
   "execution_count": 8,
   "metadata": {},
   "outputs": [],
   "source": [
    "#Transférer dans la base de donnée grace à la commande commit().\n",
    "conn.commit()"
   ]
  },
  {
   "cell_type": "code",
   "execution_count": 9,
   "metadata": {},
   "outputs": [],
   "source": [
    "#Une fois ceci fait on ferme le curseur et la connexion.\n",
    "cur.close()\n",
    "conn.close()"
   ]
  },
  {
   "cell_type": "code",
   "execution_count": null,
   "metadata": {},
   "outputs": [],
   "source": []
  }
 ],
 "metadata": {
  "kernelspec": {
   "display_name": "Python 3",
   "language": "python",
   "name": "python3"
  },
  "language_info": {
   "codemirror_mode": {
    "name": "ipython",
    "version": 3
   },
   "file_extension": ".py",
   "mimetype": "text/x-python",
   "name": "python",
   "nbconvert_exporter": "python",
   "pygments_lexer": "ipython3",
   "version": "3.5.2"
  }
 },
 "nbformat": 4,
 "nbformat_minor": 2
}
